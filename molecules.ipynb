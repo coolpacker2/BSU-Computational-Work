{
 "cells": [
  {
   "cell_type": "code",
   "execution_count": 103,
   "metadata": {},
   "outputs": [
    {
     "data": {
      "text/plain": [
       "<Popen: returncode: None args: ['c:\\\\Users\\\\coolp\\\\OneDrive\\\\Desktop\\\\Projec...>"
      ]
     },
     "execution_count": 103,
     "metadata": {},
     "output_type": "execute_result"
    }
   ],
   "source": [
    "#3CuN2, 4 of them so 12CuN8, this was the moledcule my dad asked me to make\n",
    "from ase import Atoms\n",
    "from ase.calculators.emt import EMT\n",
    "from ase.visualize import view\n",
    "import math\n",
    "nPositions = [(math.sin(45)*8,0,-4),(math.sin(45)*-8,0,-4),(0,math.sin(45)*-8,4),(0,math.sin(45)*8,4),(math.sin(45)*8,0,4),(math.sin(45)*-8,0,4),(0,math.sin(45)*-8,-4),(0,math.sin(45)*8,-4)]\n",
    "NMolecule = Atoms('8N', positions=nPositions)\n",
    "NMolecule.calc = EMT()\n",
    "e_N3 = NMolecule.get_potential_energy()\n",
    "cuPositions = [(4,4,4),(-4,4,4),(-4,-4,4),(-4,-4,-4),(4,-4,4),(4,-4,-4),(4,4,-4),(-4,4,-4),(math.sin(45)*8,0,0),(math.sin(45)*-8,0,0),(0,math.sin(45)*-8,0),(0,math.sin(45)*8,0)]\n",
    "CuMolecule = Atoms('12Cu', positions=cuPositions) # basically every tuple is the position of the atoms\n",
    "CuMolecule.calc = EMT()\n",
    "e_Cu = CuMolecule.get_potential_energy()\n",
    "\n",
    "combinedMolecule = NMolecule + CuMolecule #note we can add the two molecules toegther\n",
    "\n",
    "# Visualize the combined molecule with adjusted camera position\n",
    "view(combinedMolecule)\n",
    "\n",
    "\n",
    "\n"
   ]
  }
 ],
 "metadata": {
  "kernelspec": {
   "display_name": ".venv",
   "language": "python",
   "name": "python3"
  },
  "language_info": {
   "codemirror_mode": {
    "name": "ipython",
    "version": 3
   },
   "file_extension": ".py",
   "mimetype": "text/x-python",
   "name": "python",
   "nbconvert_exporter": "python",
   "pygments_lexer": "ipython3",
   "version": "3.12.3"
  }
 },
 "nbformat": 4,
 "nbformat_minor": 2
}
